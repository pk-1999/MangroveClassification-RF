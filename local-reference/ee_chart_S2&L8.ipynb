{
 "cells": [
  {
   "cell_type": "code",
   "execution_count": 2,
   "metadata": {},
   "outputs": [
    {
     "name": "stdout",
     "output_type": "stream",
     "text": [
      "        Sentinel-2  Unnamed: 2  Unnamed: 3   Landsat-8  Unnamed: 5  \\\n",
      "count  1564.000000         0.0  154.000000  154.000000         0.0   \n",
      "mean      0.442668         NaN   76.500000    0.469338         NaN   \n",
      "std       0.194445         NaN   44.600075    0.318495         NaN   \n",
      "min       0.064000         NaN    0.000000   -0.278000         NaN   \n",
      "25%       0.303000         NaN   38.250000    0.287250         NaN   \n",
      "50%       0.444500         NaN   76.500000    0.411500         NaN   \n",
      "75%       0.585000         NaN  114.750000    0.587250         NaN   \n",
      "max       4.024000         NaN  153.000000    2.775000         NaN   \n",
      "\n",
      "        Unnamed: 7  Unnamed: 10  \n",
      "count    12.000000    12.000000  \n",
      "mean    768.333333    77.250000  \n",
      "std     669.185031    58.354909  \n",
      "min       4.000000     4.000000  \n",
      "25%      51.750000    24.750000  \n",
      "50%     768.000000    68.000000  \n",
      "75%    1446.250000   137.250000  \n",
      "max    1564.000000   150.000000  \n"
     ]
    }
   ],
   "source": [
    "import pandas as pd\n",
    "from scipy import stats\n",
    "\n",
    "def compare_columns(sample1, sample2):\n",
    "    \n",
    "    # 执行双样本t检验\n",
    "    t_statistic, p_value = stats.ttest_ind(sample1, sample2)\n",
    "    \n",
    "    # 计算置信度\n",
    "    confidence = 1 - p_value\n",
    "    \n",
    "    # 输出结果\n",
    "    print(f\"T-statistic: {t_statistic}\")\n",
    "    print(f\"P-value: {p_value}\")\n",
    "    print(f\"Confidence: {confidence}\")\n",
    "\n",
    "\n",
    "def ks_test(sample1, sample2):\n",
    "    # 执行KS检验\n",
    "    statistic, p_value = stats.ks_2samp(sample1, sample2)\n",
    "    \n",
    "    # 输出结果\n",
    "    print(f\"KS Statistic: {statistic}\")\n",
    "    print(f\"P-value: {p_value}\")\n",
    "    \n",
    "    # 根据p值做出判断\n",
    "    if p_value > 0.05:\n",
    "        print(\"Fail to reject the null hypothesis: Samples may come from the same distribution.\")\n",
    "    else:\n",
    "        print(\"Reject the null hypothesis: Samples may not come from the same distribution.\")\n",
    "\n",
    "\n",
    "\n",
    "# 指定CSV文件路径和要比较的两列\n",
    "file_path = \"ee_chart_S2&L8.csv\"\n",
    "column1 = \"Sentinel-2\"\n",
    "column2 = \"Landsat-8\"\n",
    "\n",
    "# 读取CSV文件\n",
    "data = pd.read_csv(file_path)\n",
    "\n",
    "print(data.describe())\n",
    "\n",
    "data1 = data[column1]\n",
    "data2 = data[column2]\n",
    "\n"
   ]
  },
  {
   "cell_type": "code",
   "execution_count": 3,
   "metadata": {},
   "outputs": [
    {
     "data": {
      "text/plain": [
       "0       0.437\n",
       "1       0.352\n",
       "2       0.605\n",
       "3       0.322\n",
       "4       0.476\n",
       "        ...  \n",
       "1559    0.178\n",
       "1560    0.178\n",
       "1561    0.226\n",
       "1562    0.275\n",
       "1563    0.489\n",
       "Name: Sentinel-2, Length: 1564, dtype: float64"
      ]
     },
     "execution_count": 3,
     "metadata": {},
     "output_type": "execute_result"
    }
   ],
   "source": [
    "data1"
   ]
  },
  {
   "cell_type": "code",
   "execution_count": 4,
   "metadata": {},
   "outputs": [
    {
     "name": "stdout",
     "output_type": "stream",
     "text": [
      "count    1239.000000\n",
      "mean        0.381851\n",
      "std         0.138966\n",
      "min         0.064000\n",
      "25%         0.273000\n",
      "50%         0.384000\n",
      "75%         0.503500\n",
      "max         0.599000\n",
      "Name: Sentinel-2, dtype: float64\n",
      "count    120.000000\n",
      "mean       0.347433\n",
      "std        0.154839\n",
      "min       -0.278000\n",
      "25%        0.269250\n",
      "50%        0.374500\n",
      "75%        0.451250\n",
      "max        0.599000\n",
      "Name: Landsat-8, dtype: float64\n"
     ]
    }
   ],
   "source": [
    "# 筛选出反射率低于0.6的样本\n",
    "data_filtered1 = data1[(data1 < 0.6)]\n",
    "data_filtered2 = data2[(data2 < 0.6)]\n",
    "\n",
    "print(data_filtered1.describe())\n",
    "print(data_filtered2.describe())"
   ]
  },
  {
   "cell_type": "code",
   "execution_count": 5,
   "metadata": {},
   "outputs": [
    {
     "name": "stdout",
     "output_type": "stream",
     "text": [
      "T-statistic: 2.5635147786200436\n",
      "P-value: 0.010468788430387085\n",
      "Confidence: 0.9895312115696129\n"
     ]
    }
   ],
   "source": [
    "# 执行比较\n",
    "compare_columns(data_filtered1, data_filtered2)"
   ]
  },
  {
   "cell_type": "code",
   "execution_count": 6,
   "metadata": {},
   "outputs": [
    {
     "name": "stdout",
     "output_type": "stream",
     "text": [
      "KS Statistic: 0.12066182405165456\n",
      "P-value: 0.07559890286750985\n",
      "Fail to reject the null hypothesis: Samples may come from the same distribution.\n"
     ]
    }
   ],
   "source": [
    "ks_test(data_filtered1, data_filtered2)"
   ]
  },
  {
   "cell_type": "code",
   "execution_count": null,
   "metadata": {},
   "outputs": [],
   "source": []
  }
 ],
 "metadata": {
  "kernelspec": {
   "display_name": "base",
   "language": "python",
   "name": "python3"
  },
  "language_info": {
   "codemirror_mode": {
    "name": "ipython",
    "version": 3
   },
   "file_extension": ".py",
   "mimetype": "text/x-python",
   "name": "python",
   "nbconvert_exporter": "python",
   "pygments_lexer": "ipython3",
   "version": "3.11.5"
  }
 },
 "nbformat": 4,
 "nbformat_minor": 2
}
